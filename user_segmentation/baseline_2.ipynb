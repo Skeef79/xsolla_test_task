{
 "cells": [
  {
   "cell_type": "code",
   "execution_count": 1,
   "metadata": {},
   "outputs": [],
   "source": [
    "from __future__ import print_function\n",
    "import time\n",
    "import numpy as np\n",
    "import pandas as pd\n",
    "from sklearn.decomposition import PCA\n",
    "from sklearn.manifold import TSNE\n",
    "\n",
    "%matplotlib inline\n",
    "\n",
    "import matplotlib.pyplot as plt\n",
    "from mpl_toolkits.mplot3d import Axes3D\n",
    "import seaborn as sns\n",
    "import random\n",
    "from sklearn.cluster import DBSCAN\n",
    "from sklearn.cluster import KMeans"
   ]
  },
  {
   "cell_type": "code",
   "execution_count": 2,
   "metadata": {},
   "outputs": [],
   "source": [
    "segment_directory = \"segmentation.csv\"\n",
    "\n",
    "segment = pd.read_csv(segment_directory, header=0)"
   ]
  },
  {
   "cell_type": "code",
   "execution_count": 3,
   "metadata": {},
   "outputs": [
    {
     "data": {
      "image/png": "[encoded data removed]",
      "text/plain": [
       "<Figure size 432x288 with 2 Axes>"
      ]
     },
     "metadata": {
      "needs_background": "light"
     },
     "output_type": "display_data"
    }
   ],
   "source": [
    "#Давайте посмотрим на корреляцию между параметрами\n",
    "corr = segment.corr()\n",
    "sns.heatmap(corr,annot = True)\n",
    "plt.show()\n",
    "#По матрице корреляций можно сделать вывод, что есть умеренная линейная зависимость между Frequency и Monetary,\n",
    "#но при этом между факторами практически нет линейной зависимости."
   ]
  },
  {
   "cell_type": "code",
   "execution_count": 4,
   "metadata": {},
   "outputs": [],
   "source": [
    "#Самое логичное убрать CustomerId, так как он точно никак не может помочь в кластеризации, а может и помешать\n",
    "#Ведь это просто уникальный идентификатор пользователя, он никак не поможет в кластеризации.\n",
    "columns = [\n",
    "    'Monetary',\n",
    "    #'Recency',\n",
    "    'Frequency',\n",
    "    'factor_1',\n",
    "    'factor_2',\n",
    "    'factor_3',\n",
    "    'factor_4'\n",
    "]"
   ]
  },
  {
   "cell_type": "code",
   "execution_count": 5,
   "metadata": {},
   "outputs": [
    {
     "data": {
      "text/html": [
       "<div>\n",
       "<style scoped>\n",
       "    .dataframe tbody tr th:only-of-type {\n",
       "        vertical-align: middle;\n",
       "    }\n",
       "\n",
       "    .dataframe tbody tr th {\n",
       "        vertical-align: top;\n",
       "    }\n",
       "\n",
       "    .dataframe thead th {\n",
       "        text-align: right;\n",
       "    }\n",
       "</style>\n",
       "<table border=\"1\" class=\"dataframe\">\n",
       "  <thead>\n",
       "    <tr style=\"text-align: right;\">\n",
       "      <th></th>\n",
       "      <th>Monetary</th>\n",
       "      <th>Frequency</th>\n",
       "      <th>factor_1</th>\n",
       "      <th>factor_2</th>\n",
       "      <th>factor_3</th>\n",
       "      <th>factor_4</th>\n",
       "    </tr>\n",
       "  </thead>\n",
       "  <tbody>\n",
       "    <tr>\n",
       "      <th>0</th>\n",
       "      <td>100.40</td>\n",
       "      <td>6</td>\n",
       "      <td>0.35</td>\n",
       "      <td>0.08</td>\n",
       "      <td>0.609740</td>\n",
       "      <td>0.949383</td>\n",
       "    </tr>\n",
       "    <tr>\n",
       "      <th>1</th>\n",
       "      <td>170.00</td>\n",
       "      <td>4</td>\n",
       "      <td>0.66</td>\n",
       "      <td>0.16</td>\n",
       "      <td>0.942272</td>\n",
       "      <td>0.479846</td>\n",
       "    </tr>\n",
       "    <tr>\n",
       "      <th>2</th>\n",
       "      <td>70.75</td>\n",
       "      <td>6</td>\n",
       "      <td>0.92</td>\n",
       "      <td>0.20</td>\n",
       "      <td>0.323030</td>\n",
       "      <td>0.007076</td>\n",
       "    </tr>\n",
       "    <tr>\n",
       "      <th>3</th>\n",
       "      <td>75.00</td>\n",
       "      <td>10</td>\n",
       "      <td>0.35</td>\n",
       "      <td>0.78</td>\n",
       "      <td>0.876833</td>\n",
       "      <td>0.088974</td>\n",
       "    </tr>\n",
       "    <tr>\n",
       "      <th>4</th>\n",
       "      <td>94.51</td>\n",
       "      <td>5</td>\n",
       "      <td>0.51</td>\n",
       "      <td>0.44</td>\n",
       "      <td>0.912099</td>\n",
       "      <td>0.206194</td>\n",
       "    </tr>\n",
       "    <tr>\n",
       "      <th>...</th>\n",
       "      <td>...</td>\n",
       "      <td>...</td>\n",
       "      <td>...</td>\n",
       "      <td>...</td>\n",
       "      <td>...</td>\n",
       "      <td>...</td>\n",
       "    </tr>\n",
       "    <tr>\n",
       "      <th>15995</th>\n",
       "      <td>110.00</td>\n",
       "      <td>5</td>\n",
       "      <td>0.22</td>\n",
       "      <td>0.92</td>\n",
       "      <td>0.279858</td>\n",
       "      <td>0.012416</td>\n",
       "    </tr>\n",
       "    <tr>\n",
       "      <th>15996</th>\n",
       "      <td>175.00</td>\n",
       "      <td>9</td>\n",
       "      <td>0.66</td>\n",
       "      <td>0.55</td>\n",
       "      <td>0.045826</td>\n",
       "      <td>0.025403</td>\n",
       "    </tr>\n",
       "    <tr>\n",
       "      <th>15997</th>\n",
       "      <td>94.21</td>\n",
       "      <td>2</td>\n",
       "      <td>0.41</td>\n",
       "      <td>0.80</td>\n",
       "      <td>0.438510</td>\n",
       "      <td>0.665808</td>\n",
       "    </tr>\n",
       "    <tr>\n",
       "      <th>15998</th>\n",
       "      <td>3.35</td>\n",
       "      <td>1</td>\n",
       "      <td>0.75</td>\n",
       "      <td>0.17</td>\n",
       "      <td>0.009277</td>\n",
       "      <td>0.572111</td>\n",
       "    </tr>\n",
       "    <tr>\n",
       "      <th>15999</th>\n",
       "      <td>345.00</td>\n",
       "      <td>18</td>\n",
       "      <td>0.11</td>\n",
       "      <td>0.28</td>\n",
       "      <td>0.068690</td>\n",
       "      <td>0.457037</td>\n",
       "    </tr>\n",
       "  </tbody>\n",
       "</table>\n",
       "<p>16000 rows × 6 columns</p>\n",
       "</div>"
      ],
      "text/plain": [
       "       Monetary  Frequency  factor_1  factor_2  factor_3  factor_4\n",
       "0        100.40          6      0.35      0.08  0.609740  0.949383\n",
       "1        170.00          4      0.66      0.16  0.942272  0.479846\n",
       "2         70.75          6      0.92      0.20  0.323030  0.007076\n",
       "3         75.00         10      0.35      0.78  0.876833  0.088974\n",
       "4         94.51          5      0.51      0.44  0.912099  0.206194\n",
       "...         ...        ...       ...       ...       ...       ...\n",
       "15995    110.00          5      0.22      0.92  0.279858  0.012416\n",
       "15996    175.00          9      0.66      0.55  0.045826  0.025403\n",
       "15997     94.21          2      0.41      0.80  0.438510  0.665808\n",
       "15998      3.35          1      0.75      0.17  0.009277  0.572111\n",
       "15999    345.00         18      0.11      0.28  0.068690  0.457037\n",
       "\n",
       "[16000 rows x 6 columns]"
      ]
     },
     "execution_count": 5,
     "metadata": {},
     "output_type": "execute_result"
    }
   ],
   "source": [
    "segment = segment[columns]\n",
    "segment"
   ]
  },
  {
   "cell_type": "code",
   "execution_count": 6,
   "metadata": {},
   "outputs": [],
   "source": [
    "def get_data(df):\n",
    "    \n",
    "    #для того, чтобы преобразовать текстовые значения в числовые используем LabelEncoder\n",
    "    if ('Recency' in columns):\n",
    "        df['Recency'] = le.fit_transform(df['Recency'])\n",
    "        \n",
    "    \n",
    "    for column in columns:\n",
    "        mx = df[column].max()\n",
    "        mn = df[column].min()\n",
    "        df[column]-=mn\n",
    "        df[column]/=(mx+1e-8)\n",
    "    \n",
    "    x = df\n",
    "    return x"
   ]
  },
  {
   "cell_type": "code",
   "execution_count": 7,
   "metadata": {},
   "outputs": [],
   "source": [
    "#Попробуем поделить пользователей на 3 кластера.\n",
    "#Те , кто платят мало, те, кто платят средне и те, кто платят много"
   ]
  },
  {
   "cell_type": "code",
   "execution_count": 8,
   "metadata": {},
   "outputs": [],
   "source": [
    "def check_specific_columns(columns):\n",
    "    \n",
    "    x = get_data(segment)\n",
    "    x = x[columns]\n",
    "    x = np.array(x)\n",
    "    \n",
    "    kmeans = KMeans(n_clusters = 3)\n",
    "    clustering = kmeans.fit(x)\n",
    "    \n",
    "    cl_1 = np.where(clustering.labels_==0)[0]\n",
    "    cl_2 = np.where(clustering.labels_ == 1)[0]\n",
    "    cl_3 = np.where(clustering.labels_==2)[0]\n",
    "    cluster_1 = x[cl_1]\n",
    "    cluster_2 = x[cl_2]\n",
    "    cluster_3 = x[cl_3]\n",
    "    \n",
    "    #Посмотрим на средние значения кластеров\n",
    "    print('Mean Monetary in cluster 1:',cluster_1[0,:].mean())\n",
    "    print('Mean Monetary in cluster 2:',cluster_2[0,:].mean())\n",
    "    print('Mean Monetary in cluster 3:',cluster_3[0,:].mean())\n"
   ]
  },
  {
   "cell_type": "code",
   "execution_count": 9,
   "metadata": {},
   "outputs": [
    {
     "name": "stdout",
     "output_type": "stream",
     "text": [
      "Mean Monetary in cluster 1: 0.5539674768059203\n",
      "Mean Monetary in cluster 2: 0.36691618480381644\n",
      "Mean Monetary in cluster 3: 0.34452993542642485\n"
     ]
    }
   ],
   "source": [
    "#Теперь давайте посмотрим, как факторы влияют на разбиение\n",
    "columns = [\n",
    "    'Monetary',\n",
    "    #'Recency',\n",
    "    'Frequency',\n",
    "    'factor_1',\n",
    "    'factor_2',\n",
    "    'factor_3',\n",
    "    'factor_4'\n",
    "]\n",
    "check_specific_columns(columns)"
   ]
  },
  {
   "cell_type": "code",
   "execution_count": 10,
   "metadata": {},
   "outputs": [
    {
     "name": "stdout",
     "output_type": "stream",
     "text": [
      "Mean Monetary in cluster 1: 0.3435286766625599\n",
      "Mean Monetary in cluster 2: 0.4647875934421162\n",
      "Mean Monetary in cluster 3: 0.3704539436724511\n"
     ]
    }
   ],
   "source": [
    "#Без первого фактора\n",
    "columns = [\n",
    "    'Monetary',\n",
    "    #'Recency',\n",
    "    'Frequency',\n",
    "    #'factor_1',\n",
    "    'factor_2',\n",
    "    'factor_3',\n",
    "    'factor_4'\n",
    "]\n",
    "check_specific_columns(columns)"
   ]
  },
  {
   "cell_type": "code",
   "execution_count": 11,
   "metadata": {},
   "outputs": [
    {
     "name": "stdout",
     "output_type": "stream",
     "text": [
      "Mean Monetary in cluster 1: 0.4330646889625078\n",
      "Mean Monetary in cluster 2: 0.1276361351746838\n",
      "Mean Monetary in cluster 3: 0.39752867612349485\n"
     ]
    }
   ],
   "source": [
    "columns = [\n",
    "    'Monetary',\n",
    "    #'Recency',\n",
    "    'Frequency',\n",
    "    'factor_1',\n",
    "    #'factor_2',\n",
    "    'factor_3',\n",
    "    'factor_4'\n",
    "]\n",
    "check_specific_columns(columns)"
   ]
  },
  {
   "cell_type": "code",
   "execution_count": 12,
   "metadata": {},
   "outputs": [
    {
     "name": "stdout",
     "output_type": "stream",
     "text": [
      "Mean Monetary in cluster 1: 0.26508756597937183\n",
      "Mean Monetary in cluster 2: 0.2915831335831915\n",
      "Mean Monetary in cluster 3: 0.5640142524379861\n"
     ]
    }
   ],
   "source": [
    "columns = [\n",
    "    'Monetary',\n",
    "    #'Recency',\n",
    "    'Frequency',\n",
    "    'factor_1',\n",
    "    'factor_2',\n",
    "    #'factor_3',\n",
    "    'factor_4'\n",
    "]\n",
    "check_specific_columns(columns)"
   ]
  },
  {
   "cell_type": "code",
   "execution_count": 13,
   "metadata": {},
   "outputs": [
    {
     "name": "stdout",
     "output_type": "stream",
     "text": [
      "Mean Monetary in cluster 1: 0.4697494118696609\n",
      "Mean Monetary in cluster 2: 0.2236417136121454\n",
      "Mean Monetary in cluster 3: 0.4226642214116116\n"
     ]
    }
   ],
   "source": [
    "columns = [\n",
    "    'Monetary',\n",
    "    #'Recency',\n",
    "    'Frequency',\n",
    "    'factor_1',\n",
    "    'factor_2',\n",
    "    'factor_3',\n",
    "    #'factor_4'\n",
    "]\n",
    "check_specific_columns(columns)"
   ]
  },
  {
   "cell_type": "code",
   "execution_count": 14,
   "metadata": {},
   "outputs": [],
   "source": [
    "#на самом деле, каких-то зависимостей между факторами я тут не вижу, возможно я что-то делаю не правильно."
   ]
  }
 ],
 "metadata": {
  "kernelspec": {
   "display_name": "Python 3",
   "language": "python",
   "name": "python3"
  },
  "language_info": {
   "codemirror_mode": {
    "name": "ipython",
    "version": 3
   },
   "file_extension": ".py",
   "mimetype": "text/x-python",
   "name": "python",
   "nbconvert_exporter": "python",
   "pygments_lexer": "ipython3",
   "version": "3.7.7"
  }
 },
 "nbformat": 4,
 "nbformat_minor": 2
}
